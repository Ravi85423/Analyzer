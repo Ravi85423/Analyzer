{
 "cells": [
  {
   "cell_type": "code",
   "execution_count": 1,
   "metadata": {},
   "outputs": [],
   "source": [
    "import speech_recognition as sr\n",
    "from time import ctime\n",
    "import time\n",
    "import os\n",
    "from gtts import gTTS\n",
    "import webbrowser\n",
    "import random\n",
    "import playsound"
   ]
  },
  {
   "cell_type": "code",
   "execution_count": 2,
   "metadata": {},
   "outputs": [],
   "source": [
    "r = sr.Recognizer()"
   ]
  },
  {
   "cell_type": "code",
   "execution_count": null,
   "metadata": {},
   "outputs": [
    {
     "name": "stdout",
     "output_type": "stream",
     "text": [
      "How can I help you?\n",
      "Say Something:\n"
     ]
    }
   ],
   "source": [
    "def record_audio(ask=False):\n",
    "    if ask:\n",
    "        alexis_speak(ask)\n",
    "    with sr.Microphone() as source:\n",
    "        alexis_speak('Say Something:')\n",
    "        audio = r.listen(source)\n",
    "        try:\n",
    "            voice_data = r.recognize_google(audio)\n",
    "            alexis_speak(voice_data)\n",
    "        except sr.UnknownValueError:\n",
    "            alexis_speak(\"Sorry, I did not get that\")\n",
    "        except sr.RequestError:\n",
    "            alexis_speak(\"Sorry, my request speech is down\")\n",
    "        return voice_data\n",
    "    \n",
    "def alexis_speak(audio_string):\n",
    "    tts = gTTS(text=audio_string, lang='en')\n",
    "    r = random.randint(1,100000)\n",
    "    text_file = \"audio\" + str(r)+ \".mp3\"\n",
    "    tts.save(text_file)\n",
    "    playsound.playsound(text_file)\n",
    "    print(audio_string)\n",
    "    \n",
    "def respond(voice_data):\n",
    "    if 'what is your name' in voice_data:\n",
    "        alexis_speak('My name is Ravi')\n",
    "    if 'What is time' in voice_data:\n",
    "        alexis_speak(ctime())\n",
    "    if 'search' in voice_data:\n",
    "        search = record_audio('What do you want to search for?')\n",
    "        url = 'https://google.com/search?q='+search\n",
    "        webbrowser.get().open(url)\n",
    "        alexis_speak(\"Here is what I found for: \"+search)\n",
    "        \n",
    "time.sleep(1)\n",
    "alexis_speak('How can I help you?')\n",
    "while 1:\n",
    "    voice_data = record_audio()\n",
    "    if voice_data=='exit':\n",
    "        break\n",
    "    respond(voice_data)"
   ]
  },
  {
   "cell_type": "code",
   "execution_count": null,
   "metadata": {},
   "outputs": [],
   "source": []
  }
 ],
 "metadata": {
  "kernelspec": {
   "display_name": "Python 3",
   "language": "python",
   "name": "python3"
  },
  "language_info": {
   "codemirror_mode": {
    "name": "ipython",
    "version": 3
   },
   "file_extension": ".py",
   "mimetype": "text/x-python",
   "name": "python",
   "nbconvert_exporter": "python",
   "pygments_lexer": "ipython3",
   "version": "3.8.3"
  }
 },
 "nbformat": 4,
 "nbformat_minor": 4
}
